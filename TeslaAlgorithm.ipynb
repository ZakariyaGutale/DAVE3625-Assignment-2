{
 "cells": [
  {
   "cell_type": "code",
   "execution_count": 1,
   "id": "55e0f60a-46d4-47e3-b3a5-1c07c6cd27c4",
   "metadata": {},
   "outputs": [],
   "source": [
    "import pandas as pd\n",
    "from sklearn.model_selection import train_test_split\n",
    "from sklearn.linear_model import LinearRegression\n",
    "from sklearn.metrics import mean_squared_error, r2_score\n",
    "import datetime"
   ]
  },
  {
   "cell_type": "code",
   "execution_count": 3,
   "id": "1a30c30d-e94f-44d8-a2bc-6d896e697ddc",
   "metadata": {},
   "outputs": [],
   "source": [
    "tesla_data = pd.read_csv('TSLA.csv')\n",
    "tesla_data['Date'] = pd.to_datetime(tesla_data['Date'])\n",
    "tesla_data['Date_as_num'] = tesla_data['Date'].apply(lambda date: date.toordinal())"
   ]
  },
  {
   "cell_type": "code",
   "execution_count": 4,
   "id": "eaa64ec6-b6d9-42d2-806e-f6031db929b5",
   "metadata": {},
   "outputs": [],
   "source": [
    "input_data = tesla_data[['Date_as_num']]\n",
    "stock_price = tesla_data['Close']"
   ]
  },
  {
   "cell_type": "code",
   "execution_count": 5,
   "id": "bab11da0-fd0d-4d8a-87be-f84f8191ef61",
   "metadata": {},
   "outputs": [],
   "source": [
    "# Splitting data and converting to numpy arrays\n",
    "input_train, input_val, price_train, price_val = train_test_split(input_data, stock_price, test_size=0.2, random_state=42)\n",
    "input_train = input_train.values\n",
    "input_val = input_val.values\n",
    "price_train = price_train.values\n",
    "price_val = price_val.values\n"
   ]
  },
  {
   "cell_type": "code",
   "execution_count": 6,
   "id": "7e07dbff-8817-413a-bb2b-31a4b1dce31e",
   "metadata": {},
   "outputs": [
    {
     "data": {
      "text/plain": "LinearRegression()",
      "text/html": "<style>#sk-container-id-1 {color: black;}#sk-container-id-1 pre{padding: 0;}#sk-container-id-1 div.sk-toggleable {background-color: white;}#sk-container-id-1 label.sk-toggleable__label {cursor: pointer;display: block;width: 100%;margin-bottom: 0;padding: 0.3em;box-sizing: border-box;text-align: center;}#sk-container-id-1 label.sk-toggleable__label-arrow:before {content: \"▸\";float: left;margin-right: 0.25em;color: #696969;}#sk-container-id-1 label.sk-toggleable__label-arrow:hover:before {color: black;}#sk-container-id-1 div.sk-estimator:hover label.sk-toggleable__label-arrow:before {color: black;}#sk-container-id-1 div.sk-toggleable__content {max-height: 0;max-width: 0;overflow: hidden;text-align: left;background-color: #f0f8ff;}#sk-container-id-1 div.sk-toggleable__content pre {margin: 0.2em;color: black;border-radius: 0.25em;background-color: #f0f8ff;}#sk-container-id-1 input.sk-toggleable__control:checked~div.sk-toggleable__content {max-height: 200px;max-width: 100%;overflow: auto;}#sk-container-id-1 input.sk-toggleable__control:checked~label.sk-toggleable__label-arrow:before {content: \"▾\";}#sk-container-id-1 div.sk-estimator input.sk-toggleable__control:checked~label.sk-toggleable__label {background-color: #d4ebff;}#sk-container-id-1 div.sk-label input.sk-toggleable__control:checked~label.sk-toggleable__label {background-color: #d4ebff;}#sk-container-id-1 input.sk-hidden--visually {border: 0;clip: rect(1px 1px 1px 1px);clip: rect(1px, 1px, 1px, 1px);height: 1px;margin: -1px;overflow: hidden;padding: 0;position: absolute;width: 1px;}#sk-container-id-1 div.sk-estimator {font-family: monospace;background-color: #f0f8ff;border: 1px dotted black;border-radius: 0.25em;box-sizing: border-box;margin-bottom: 0.5em;}#sk-container-id-1 div.sk-estimator:hover {background-color: #d4ebff;}#sk-container-id-1 div.sk-parallel-item::after {content: \"\";width: 100%;border-bottom: 1px solid gray;flex-grow: 1;}#sk-container-id-1 div.sk-label:hover label.sk-toggleable__label {background-color: #d4ebff;}#sk-container-id-1 div.sk-serial::before {content: \"\";position: absolute;border-left: 1px solid gray;box-sizing: border-box;top: 0;bottom: 0;left: 50%;z-index: 0;}#sk-container-id-1 div.sk-serial {display: flex;flex-direction: column;align-items: center;background-color: white;padding-right: 0.2em;padding-left: 0.2em;position: relative;}#sk-container-id-1 div.sk-item {position: relative;z-index: 1;}#sk-container-id-1 div.sk-parallel {display: flex;align-items: stretch;justify-content: center;background-color: white;position: relative;}#sk-container-id-1 div.sk-item::before, #sk-container-id-1 div.sk-parallel-item::before {content: \"\";position: absolute;border-left: 1px solid gray;box-sizing: border-box;top: 0;bottom: 0;left: 50%;z-index: -1;}#sk-container-id-1 div.sk-parallel-item {display: flex;flex-direction: column;z-index: 1;position: relative;background-color: white;}#sk-container-id-1 div.sk-parallel-item:first-child::after {align-self: flex-end;width: 50%;}#sk-container-id-1 div.sk-parallel-item:last-child::after {align-self: flex-start;width: 50%;}#sk-container-id-1 div.sk-parallel-item:only-child::after {width: 0;}#sk-container-id-1 div.sk-dashed-wrapped {border: 1px dashed gray;margin: 0 0.4em 0.5em 0.4em;box-sizing: border-box;padding-bottom: 0.4em;background-color: white;}#sk-container-id-1 div.sk-label label {font-family: monospace;font-weight: bold;display: inline-block;line-height: 1.2em;}#sk-container-id-1 div.sk-label-container {text-align: center;}#sk-container-id-1 div.sk-container {/* jupyter's `normalize.less` sets `[hidden] { display: none; }` but bootstrap.min.css set `[hidden] { display: none !important; }` so we also need the `!important` here to be able to override the default hidden behavior on the sphinx rendered scikit-learn.org. See: https://github.com/scikit-learn/scikit-learn/issues/21755 */display: inline-block !important;position: relative;}#sk-container-id-1 div.sk-text-repr-fallback {display: none;}</style><div id=\"sk-container-id-1\" class=\"sk-top-container\"><div class=\"sk-text-repr-fallback\"><pre>LinearRegression()</pre><b>In a Jupyter environment, please rerun this cell to show the HTML representation or trust the notebook. <br />On GitHub, the HTML representation is unable to render, please try loading this page with nbviewer.org.</b></div><div class=\"sk-container\" hidden><div class=\"sk-item\"><div class=\"sk-estimator sk-toggleable\"><input class=\"sk-toggleable__control sk-hidden--visually\" id=\"sk-estimator-id-1\" type=\"checkbox\" checked><label for=\"sk-estimator-id-1\" class=\"sk-toggleable__label sk-toggleable__label-arrow\">LinearRegression</label><div class=\"sk-toggleable__content\"><pre>LinearRegression()</pre></div></div></div></div></div>"
     },
     "execution_count": 6,
     "metadata": {},
     "output_type": "execute_result"
    }
   ],
   "source": [
    "# Training the model\n",
    "predictor = LinearRegression()\n",
    "predictor.fit(input_train, price_train)\n"
   ]
  },
  {
   "cell_type": "code",
   "execution_count": 7,
   "id": "a2c1a4e5-60a7-4e96-92b1-ceeb04ba34ee",
   "metadata": {},
   "outputs": [
    {
     "name": "stdout",
     "output_type": "stream",
     "text": [
      "Mean Squared Error: 3778.11\n",
      "R2 Score: 0.58\n"
     ]
    }
   ],
   "source": [
    "# Making predictions and calculating error metrics\n",
    "price_predictions = predictor.predict(input_val)\n",
    "print(f\"Mean Squared Error: {mean_squared_error(price_val, price_predictions):.2f}\")\n",
    "print(f\"R2 Score: {r2_score(price_val, price_predictions):.2f}\")"
   ]
  },
  {
   "cell_type": "code",
   "execution_count": 8,
   "id": "1f032b08-6579-4870-9427-ad1064b7b04a",
   "metadata": {},
   "outputs": [
    {
     "name": "stdout",
     "output_type": "stream",
     "text": [
      "Forecasted Stock Price on 2023-10-19: $202.54\n"
     ]
    }
   ],
   "source": [
    "# Function to predict stock price for a given date\n",
    "def forecast_stock_on_date(date_str):\n",
    "    dt_obj = datetime.datetime.strptime(date_str, '%Y-%m-%d')\n",
    "    dt_ordinal = dt_obj.toordinal()\n",
    "    return predictor.predict([[dt_ordinal]])[0]\n",
    "\n",
    "print(f\"Forecasted Stock Price on 2023-10-19: ${forecast_stock_on_date('2023-10-19'):.2f}\")"
   ]
  },
  {
   "cell_type": "markdown",
   "id": "ce18b44f-274b-4b3f-a2eb-7988cda93e19",
   "metadata": {},
   "source": [
    "For predicting Tesla's stock price, a regression algorithm is apt since we aim to forecast a continuous value, i.e., the stock price. We chose the Linear Regression model for its simplicity and efficiency. This method fits well for our dataset, providing a balance between performance and ease of interpretation."
   ]
  }
 ],
 "metadata": {
  "kernelspec": {
   "display_name": "Python 3 (ipykernel)",
   "language": "python",
   "name": "python3"
  },
  "language_info": {
   "codemirror_mode": {
    "name": "ipython",
    "version": 3
   },
   "file_extension": ".py",
   "mimetype": "text/x-python",
   "name": "python",
   "nbconvert_exporter": "python",
   "pygments_lexer": "ipython3",
   "version": "3.9.13"
  }
 },
 "nbformat": 4,
 "nbformat_minor": 5
}
